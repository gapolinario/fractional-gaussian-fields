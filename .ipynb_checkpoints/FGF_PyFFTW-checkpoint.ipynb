{
 "cells": [
  {
   "cell_type": "markdown",
   "metadata": {},
   "source": [
    "# FGF against PyFFTW"
   ]
  },
  {
   "cell_type": "code",
   "execution_count": 1,
   "metadata": {},
   "outputs": [],
   "source": [
    "import numpy as np\n",
    "import matplotlib.pyplot as plt\n",
    "import pyfftw"
   ]
  },
  {
   "cell_type": "code",
   "execution_count": 9,
   "metadata": {},
   "outputs": [],
   "source": [
    "pyfftw.config.NUM_THREADS = 8\n",
    "pyfftw.config.PLANNER_EFFORT = 'FFTW_MEASURE'"
   ]
  },
  {
   "cell_type": "code",
   "execution_count": 10,
   "metadata": {},
   "outputs": [],
   "source": [
    "plt.rcParams.update({'font.size': 26,\n",
    "                     'mathtext.fontset' : 'stix',\n",
    "                     'font.family' : 'STIXGeneral'\n",
    "                     })"
   ]
  },
  {
   "cell_type": "code",
   "execution_count": 11,
   "metadata": {},
   "outputs": [],
   "source": [
    "N = 2**12\n",
    "Ltot = 1.\n",
    "dx = Ltot/N\n",
    "sqdx = np.sqrt(.5*dx)\n",
    "H = 1./3.\n",
    "X = np.fft.fftfreq(N) * Ltot\n",
    "K  = np.fft.fftfreq(N) * N / Ltot\n",
    "K[N//2] = N//2 * Ltot\n",
    "PH = np.power( K*K + 1 , -.5*H-.25)\n",
    "\n",
    "U = pyfftw.empty_aligned(N, dtype='complex128')\n",
    "V = pyfftw.empty_aligned(N, dtype='complex128')\n",
    "\n",
    "plan_f = pyfftw.FFTW(U, V, direction='FFTW_FORWARD')\n",
    "plan_b = pyfftw.FFTW(V, U, direction='FFTW_BACKWARD')"
   ]
  },
  {
   "cell_type": "code",
   "execution_count": 19,
   "metadata": {},
   "outputs": [],
   "source": [
    "U0 = np.random.normal(size=N) * sqdx + 1j * np.random.normal(size=N) * sqdx\n",
    "U[:] = U0"
   ]
  },
  {
   "cell_type": "code",
   "execution_count": 20,
   "metadata": {},
   "outputs": [
    {
     "name": "stdout",
     "output_type": "stream",
     "text": [
      "CPU times: user 653 µs, sys: 47 µs, total: 700 µs\n",
      "Wall time: 362 µs\n"
     ]
    }
   ],
   "source": [
    "%%time\n",
    "fft_U = plan_f()\n",
    "V[:] = PH * V\n",
    "ifft_U = plan_b()\n",
    "U[:] = N * U"
   ]
  },
  {
   "cell_type": "code",
   "execution_count": 21,
   "metadata": {},
   "outputs": [
    {
     "name": "stdout",
     "output_type": "stream",
     "text": [
      "CPU times: user 0 ns, sys: 1.37 ms, total: 1.37 ms\n",
      "Wall time: 642 µs\n"
     ]
    }
   ],
   "source": [
    "%%time\n",
    "U1 = N * np.fft.ifft( PH * np.fft.fft(U0) )"
   ]
  },
  {
   "cell_type": "code",
   "execution_count": 22,
   "metadata": {},
   "outputs": [
    {
     "data": {
      "text/plain": [
       "True"
      ]
     },
     "execution_count": 22,
     "metadata": {},
     "output_type": "execute_result"
    }
   ],
   "source": [
    "np.allclose(U1, U)"
   ]
  },
  {
   "cell_type": "markdown",
   "metadata": {},
   "source": [
    "Time in seconds, just one realization, times fluctuate\n",
    "Best numbers by line are in bold\n",
    "\n",
    "log2(N) | Numpy(s) | PyFFTW-1 THREAD(s) | PyFFTW-2 THREADS(s) | PyFFTW-4 THREADS(s) | PyFFTW-8 THREADS(s) | \n",
    "--------|-------|--------|--------|--------|--------|\n",
    "12 | 454e-6 | 520e-6 | - | 394e-6 | **362e-6** |\n",
    "14 | 900e-6 | 1.01e-3 | **813e-6** | 843e-6 | 965e-6 |\n",
    "16 | 3.34e-3 | 3.11e-3 | **1.99e-3** | 2.34e-3 | 2.4e-3 |\n",
    "18 | 33.5e-3 | 12.6e-3 | 7.59e-3 | **7.26e-3** | 8.92e-3 |\n",
    "20 | 111e-3 | 49.7e-3 | 64.3e-3 | 63.3e-3 | **51.1e-3** |\n",
    "22 | 497e-3 | - | - | 203e-3 | **195e-3** |"
   ]
  },
  {
   "cell_type": "markdown",
   "metadata": {},
   "source": [
    "# 1. FGF without PyFFTW"
   ]
  },
  {
   "cell_type": "code",
   "execution_count": 2,
   "metadata": {},
   "outputs": [],
   "source": [
    "import numpy as np\n",
    "import matplotlib.pyplot as plt"
   ]
  },
  {
   "cell_type": "code",
   "execution_count": 3,
   "metadata": {},
   "outputs": [],
   "source": [
    "plt.rcParams.update({'font.size': 26,\n",
    "                     'mathtext.fontset' : 'stix',\n",
    "                     'font.family' : 'STIXGeneral'\n",
    "                     })"
   ]
  },
  {
   "cell_type": "code",
   "execution_count": 29,
   "metadata": {},
   "outputs": [],
   "source": [
    "N = 2**12\n",
    "Ltot = 1.\n",
    "dx = Ltot/N\n",
    "sqdx = np.sqrt(dx)\n",
    "H = 1./3.\n",
    "X = np.fft.fftfreq(N) * Ltot\n",
    "K  = np.fft.fftfreq(N) * N / Ltot\n",
    "PH = np.power( K*K + 1 , -.5*H-.25)"
   ]
  },
  {
   "cell_type": "code",
   "execution_count": 8,
   "metadata": {},
   "outputs": [],
   "source": [
    "# Generate U independently\n",
    "U = np.random.normal(size=N) * sqdx"
   ]
  },
  {
   "cell_type": "code",
   "execution_count": 9,
   "metadata": {},
   "outputs": [
    {
     "name": "stdout",
     "output_type": "stream",
     "text": [
      "CPU times: user 3.76 ms, sys: 0 ns, total: 3.76 ms\n",
      "Wall time: 2.98 ms\n"
     ]
    }
   ],
   "source": [
    "%%time\n",
    "U1 = N * np.real(np.fft.ifft( PH * np.fft.fft(U)))"
   ]
  },
  {
   "cell_type": "code",
   "execution_count": 10,
   "metadata": {},
   "outputs": [
    {
     "data": {
      "image/png": "[encoded data removed]",
      "text/plain": [
       "<Figure size 432x288 with 1 Axes>"
      ]
     },
     "metadata": {
      "needs_background": "light"
     },
     "output_type": "display_data"
    }
   ],
   "source": [
    "plt.plot(U1)\n",
    "plt.title(\"fractional gaussian field, H=1/3\")\n",
    "plt.show()"
   ]
  },
  {
   "cell_type": "markdown",
   "metadata": {},
   "source": [
    "# 2. FGF with PyFFTW"
   ]
  },
  {
   "cell_type": "code",
   "execution_count": 1,
   "metadata": {},
   "outputs": [],
   "source": [
    "import numpy as np\n",
    "import matplotlib.pyplot as plt\n",
    "import pyfftw\n",
    "\n",
    "#pyfftw.config.NUM_THREADS = 4\n",
    "#pyfftw.config.PLANNER_EFFORT = 'FFTW_MEASURE'"
   ]
  },
  {
   "cell_type": "code",
   "execution_count": 2,
   "metadata": {},
   "outputs": [],
   "source": [
    "plt.rcParams.update({'font.size': 26,\n",
    "                     'mathtext.fontset' : 'stix',\n",
    "                     'font.family' : 'STIXGeneral'\n",
    "                     })"
   ]
  },
  {
   "cell_type": "code",
   "execution_count": 3,
   "metadata": {},
   "outputs": [],
   "source": [
    "N = 2**12\n",
    "Ltot = 1.\n",
    "dx = Ltot/N\n",
    "sqdx = np.sqrt(.5*dx)\n",
    "H = 1./3.\n",
    "X = np.fft.fftfreq(N) * Ltot\n",
    "K  = np.fft.fftfreq(N) * N / Ltot\n",
    "K[N//2] = N//2 * Ltot\n",
    "PH = np.power( K*K + 1 , -.5*H-.25)"
   ]
  },
  {
   "cell_type": "code",
   "execution_count": 43,
   "metadata": {},
   "outputs": [],
   "source": [
    "U = pyfftw.empty_aligned(N, dtype='complex128')\n",
    "V = pyfftw.empty_aligned(N, dtype='complex128')\n",
    "\n",
    "plan_f = pyfftw.FFTW(U, V, direction='FFTW_FORWARD')\n",
    "plan_b = pyfftw.FFTW(V, U, direction='FFTW_BACKWARD')"
   ]
  },
  {
   "cell_type": "code",
   "execution_count": 44,
   "metadata": {},
   "outputs": [],
   "source": [
    "U0 = np.random.normal(size=N) * sqdx + 1j * np.random.normal(size=N) * sqdx\n",
    "U[:] = U0"
   ]
  },
  {
   "cell_type": "code",
   "execution_count": 45,
   "metadata": {},
   "outputs": [
    {
     "name": "stdout",
     "output_type": "stream",
     "text": [
      "CPU times: user 1.17 ms, sys: 0 ns, total: 1.17 ms\n",
      "Wall time: 699 µs\n"
     ]
    }
   ],
   "source": [
    "%%time\n",
    "fft_U = plan_f()\n",
    "V[:] = PH * V\n",
    "ifft_U = plan_b()\n",
    "U[:] = N * U"
   ]
  },
  {
   "cell_type": "code",
   "execution_count": 48,
   "metadata": {},
   "outputs": [],
   "source": [
    "#U1 = N * np.real(np.fft.ifft( PH * np.fft.fft(U0)))\n",
    "U1 = N * np.fft.ifft( PH * np.fft.fft(U0) )"
   ]
  },
  {
   "cell_type": "code",
   "execution_count": 49,
   "metadata": {},
   "outputs": [
    {
     "data": {
      "text/plain": [
       "2.0380985511143445e-15"
      ]
     },
     "execution_count": 49,
     "metadata": {},
     "output_type": "execute_result"
    }
   ],
   "source": [
    "np.amax(np.abs(U-U1))"
   ]
  },
  {
   "cell_type": "code",
   "execution_count": 51,
   "metadata": {},
   "outputs": [
    {
     "data": {
      "image/png": "[encoded data removed]",
      "text/plain": [
       "<Figure size 432x288 with 1 Axes>"
      ]
     },
     "metadata": {
      "needs_background": "light"
     },
     "output_type": "display_data"
    }
   ],
   "source": [
    "plt.plot(np.real(U)-np.real(U1))\n",
    "plt.plot(np.imag(U)-np.imag(U1))\n",
    "#plt.title(\"fractional gaussian field, H=1/3\")\n",
    "plt.show()"
   ]
  },
  {
   "cell_type": "code",
   "execution_count": 53,
   "metadata": {},
   "outputs": [
    {
     "data": {
      "image/png": "[encoded data removed]",
      "text/plain": [
       "<Figure size 432x288 with 1 Axes>"
      ]
     },
     "metadata": {
      "needs_background": "light"
     },
     "output_type": "display_data"
    }
   ],
   "source": [
    "# power spectrum\n",
    "#psp1 = np.abs( np.fft.fft(U1) )**2\n",
    "psp2 = np.abs( np.fft.fft(U) )**2\n",
    "#plt.plot( K[:N//2], psp1[:N//2], color='b', linewidth=2 )\n",
    "plt.plot( K[:N//2], psp2[:N//2], color='r', linewidth=2 )\n",
    "plt.plot( K[:N//2], N*N*np.power(K*K+1.,-H-.5)[:N//2], linestyle='--' , color='k', linewidth=4)\n",
    "plt.yscale('log')\n",
    "plt.xscale('log')\n",
    "plt.show()"
   ]
  },
  {
   "cell_type": "code",
   "execution_count": 54,
   "metadata": {},
   "outputs": [],
   "source": [
    "from scipy.special import gamma as gamma"
   ]
  },
  {
   "cell_type": "code",
   "execution_count": 59,
   "metadata": {},
   "outputs": [],
   "source": [
    "# second order structure function\n",
    "sf2 = np.empty(N)\n",
    "for ell in np.arange(N):\n",
    "    sf2[ell] = np.mean( ( np.abs( np.roll(U,ell) - U ) )**2 )"
   ]
  },
  {
   "cell_type": "code",
   "execution_count": 60,
   "metadata": {},
   "outputs": [],
   "source": [
    "c2  = -np.power(2.,2.+2.*H) * np.power(np.pi,2*H) * np.cos(np.pi*H) * gamma(-2.*H)\n",
    "var = np.sqrt(2)*gamma(H)/gamma(H+.5)"
   ]
  },
  {
   "cell_type": "code",
   "execution_count": 61,
   "metadata": {},
   "outputs": [
    {
     "data": {
      "image/png": "[encoded data removed]",
      "text/plain": [
       "<Figure size 432x288 with 1 Axes>"
      ]
     },
     "metadata": {
      "needs_background": "light"
     },
     "output_type": "display_data"
    }
   ],
   "source": [
    "plt.plot( X[:N//2], c2*np.power(X[:N//2],2*H), linestyle='--' , color='gray', linewidth=4)\n",
    "plt.axhline(y=2*var, xmin=0.05, xmax=0.95, color='gray', linewidth=4, linestyle='dashed')\n",
    "#plt.plot( X[:N//2], .3e-5*np.power(X[:N//2],2*H), linestyle='--' , color='k', linewidth=4)\n",
    "plt.plot( X[:N//2], sf2[:N//2], color='r', linewidth=2 )\n",
    "plt.yscale('log')\n",
    "plt.xscale('log')\n",
    "plt.show()"
   ]
  },
  {
   "cell_type": "markdown",
   "metadata": {},
   "source": [
    "# PyFFTW Test"
   ]
  },
  {
   "cell_type": "code",
   "execution_count": 1,
   "metadata": {},
   "outputs": [],
   "source": [
    "import numpy as np\n",
    "import matplotlib.pyplot as plt\n",
    "import pyfftw\n",
    "\n",
    "#pyfftw.config.NUM_THREADS = 4\n",
    "#pyfftw.config.PLANNER_EFFORT = 'FFTW_MEASURE'"
   ]
  },
  {
   "cell_type": "code",
   "execution_count": 2,
   "metadata": {},
   "outputs": [],
   "source": [
    "plt.rcParams.update({'font.size': 26,\n",
    "                     'mathtext.fontset' : 'stix',\n",
    "                     'font.family' : 'STIXGeneral'\n",
    "                     })"
   ]
  },
  {
   "cell_type": "code",
   "execution_count": 3,
   "metadata": {},
   "outputs": [],
   "source": [
    "N = 2**10\n",
    "Ltot = 1.\n",
    "L = .05\n",
    "dx = Ltot/N\n",
    "sqdx = np.sqrt(.5*dx)\n",
    "H = 1./3.\n",
    "X = np.fft.fftfreq(N) * Ltot\n",
    "K  = np.fft.fftfreq(N) * N / Ltot\n",
    "#K[N//2] = N//2 * Ltot\n",
    "PH = np.power( K*K + 1 , -.5*H-.25)"
   ]
  },
  {
   "cell_type": "code",
   "execution_count": 4,
   "metadata": {},
   "outputs": [],
   "source": [
    "U = pyfftw.empty_aligned(N, dtype='complex128')\n",
    "V = pyfftw.empty_aligned(N, dtype='complex128')\n",
    "\n",
    "plan_f = pyfftw.FFTW(U, V, direction='FFTW_FORWARD')\n",
    "plan_b = pyfftw.FFTW(V, U, direction='FFTW_BACKWARD')"
   ]
  },
  {
   "cell_type": "code",
   "execution_count": 5,
   "metadata": {},
   "outputs": [],
   "source": [
    "# array in, analytical\n",
    "# assign each value not to mess up the pyfftw assignment\n",
    "for i,x in enumerate(X):\n",
    "    U[i] = np.exp(-.5*x*x/L/L)\n",
    "# array out, analytical, scaled by N\n",
    "Z = N * np.sqrt(2.*np.pi) * L * np.fromiter( (np.exp(-2.*k*k*L*L*np.pi**2) for k in K), float )\n",
    "# array out, numerical, numpy\n",
    "W = np.fft.fft(U)"
   ]
  },
  {
   "cell_type": "code",
   "execution_count": 6,
   "metadata": {},
   "outputs": [],
   "source": [
    "fft_U = plan_f()"
   ]
  },
  {
   "cell_type": "code",
   "execution_count": 7,
   "metadata": {},
   "outputs": [
    {
     "data": {
      "image/png": "[encoded data removed]",
      "text/plain": [
       "<Figure size 432x288 with 1 Axes>"
      ]
     },
     "metadata": {
      "needs_background": "light"
     },
     "output_type": "display_data"
    }
   ],
   "source": [
    "plt.plot(np.fft.fftshift(K)[N//2-N//10:N//2+N//10],np.fft.fftshift(np.real(W))[N//2-N//10:N//2+N//10])\n",
    "plt.plot(np.fft.fftshift(K)[N//2-N//10:N//2+N//10],np.fft.fftshift(np.real(W-V))[N//2-N//10:N//2+N//10])\n",
    "#plt.plot(np.fft.fftshift(K)[N//2-N//10:N//2+N//10],np.fft.fftshift(np.real(W-Z))[N//2-N//10:N//2+N//10])\n",
    "plt.show()"
   ]
  },
  {
   "cell_type": "code",
   "execution_count": 9,
   "metadata": {},
   "outputs": [
    {
     "data": {
      "image/png": "[encoded data removed]",
      "text/plain": [
       "<Figure size 432x288 with 1 Axes>"
      ]
     },
     "metadata": {
      "needs_background": "light"
     },
     "output_type": "display_data"
    }
   ],
   "source": [
    "plt.plot(np.fft.fftshift(K)[N//2-N//10:N//2+N//10],np.fft.fftshift(np.imag(V))[N//2-N//10:N//2+N//10])\n",
    "plt.show()"
   ]
  },
  {
   "cell_type": "markdown",
   "metadata": {},
   "source": [
    "# Test\n",
    "\n",
    "https://github.com/Poulin-Research-Group/fftw-tests/blob/master/main.py\n",
    "\n",
    "Works, I did some modifications to update code"
   ]
  },
  {
   "cell_type": "code",
   "execution_count": 19,
   "metadata": {},
   "outputs": [
    {
     "name": "stdout",
     "output_type": "stream",
     "text": [
      "constructed random matrices\n",
      "built pyfftw matrices\n",
      "\n",
      "shape: (64, 64) 10 trials\n",
      "   0.000930252001126064 seconds\n",
      "   0.0001192640011140611 seconds\n",
      "  pyfftw is 7.799939566310494 times faster\n",
      "True \n",
      "\n",
      "shape: (128, 128) 10 trials\n",
      "   0.002196759998696507 seconds\n",
      "   0.0006380940012604697 seconds\n",
      "  pyfftw is 3.4426902530929615 times faster\n",
      "True \n",
      "\n",
      "shape: (256, 256) 10 trials\n",
      "   0.007757813000353053 seconds\n",
      "   0.0031071800003701355 seconds\n",
      "  pyfftw is 2.496737556056914 times faster\n",
      "True \n",
      "\n",
      "shape: (512, 512) 10 trials\n",
      "   0.03842903999975533 seconds\n",
      "   0.014794928001720109 seconds\n",
      "  pyfftw is 2.5974469085140153 times faster\n",
      "True \n",
      "\n",
      "shape: (1024, 1024) 10 trials\n",
      "   0.3167438399996172 seconds\n",
      "   0.08903348200146866 seconds\n",
      "  pyfftw is 3.557581180464135 times faster\n",
      "True \n",
      "\n",
      "shape: (2048, 2048) 10 trials\n",
      "   1.7243475099985517 seconds\n",
      "   0.7445694649995858 seconds\n",
      "  pyfftw is 2.3158987724530324 times faster\n",
      "True \n",
      "\n",
      "shape: (4096, 4096) 10 trials\n",
      "   5.3333052469988615 seconds\n",
      "   2.3677490270001726 seconds\n",
      "  pyfftw is 2.2524791209632173 times faster\n",
      "True \n",
      "\n",
      "shape: (8192, 8192) 10 trials\n",
      "   22.837127205000797 seconds\n",
      "   9.650722663000124 seconds\n",
      "  pyfftw is 2.3663644684927054 times faster\n",
      "True \n",
      "\n"
     ]
    }
   ],
   "source": [
    "import pyfftw\n",
    "import numpy as np\n",
    "import timeit\n",
    "\n",
    "# matrices for numpy\n",
    "M1 = np.random.rand(64, 64) + np.random.rand(64, 64)*1j\n",
    "M2 = np.random.rand(128, 128)   + np.random.rand(128, 128)*1j\n",
    "M3 = np.random.rand(256, 256)   + np.random.rand(256, 256)*1j\n",
    "M4 = np.random.rand(512, 512)   + np.random.rand(512, 512)*1j\n",
    "M5 = np.random.rand(1024, 1024) + np.random.rand(1024, 1024)*1j\n",
    "M6 = np.random.rand(2048, 2048) + np.random.rand(2048, 2048)*1j\n",
    "M7 = np.random.rand(4096, 4096) + np.random.rand(4096, 4096)*1j\n",
    "M8 = np.random.rand(8192, 8192) + np.random.rand(8192, 8192)*1j\n",
    "print('constructed random matrices')\n",
    "\n",
    "# matrices for pyfftw\n",
    "n1_in  = pyfftw.empty_aligned((64, 64), 'complex128')\n",
    "n1_out = pyfftw.empty_aligned((64, 64), 'complex128')\n",
    "N1 = pyfftw.FFTW(n1_in, n1_out, axes=(0, 1))\n",
    "n1_in[:, :] = M1[:, :]\n",
    "\n",
    "n2_in  = pyfftw.empty_aligned((128, 128), 'complex128')\n",
    "n2_out = pyfftw.empty_aligned((128, 128), 'complex128')\n",
    "N2 = pyfftw.FFTW(n2_in, n2_out, axes=(0, 1))\n",
    "n2_in[:, :] = M2[:, :]\n",
    "\n",
    "n3_in  = pyfftw.empty_aligned((256, 256), 'complex128')\n",
    "n3_out = pyfftw.empty_aligned((256, 256), 'complex128')\n",
    "N3 = pyfftw.FFTW(n3_in, n3_out, axes=(0, 1))\n",
    "n3_in[:, :] = M3[:, :]\n",
    "\n",
    "n4_in  = pyfftw.empty_aligned((512, 512), 'complex128')\n",
    "n4_out = pyfftw.empty_aligned((512, 512), 'complex128')\n",
    "N4 = pyfftw.FFTW(n4_in, n4_out, axes=(0, 1))\n",
    "n4_in[:, :] = M4[:, :]\n",
    "\n",
    "n5_in  = pyfftw.empty_aligned((1024, 1024), 'complex128')\n",
    "n5_out = pyfftw.empty_aligned((1024, 1024), 'complex128')\n",
    "N5 = pyfftw.FFTW(n5_in, n5_out, axes=(0, 1))\n",
    "n5_in[:, :] = M5[:, :]\n",
    "\n",
    "n6_in  = pyfftw.empty_aligned((2048, 2048), 'complex128')\n",
    "n6_out = pyfftw.empty_aligned((2048, 2048), 'complex128')\n",
    "N6 = pyfftw.FFTW(n6_in, n6_out, axes=(0, 1))\n",
    "n6_in[:, :] = M6[:, :]\n",
    "\n",
    "n7_in  = pyfftw.empty_aligned((4096, 4096), 'complex128')\n",
    "n7_out = pyfftw.empty_aligned((4096, 4096), 'complex128')\n",
    "N7 = pyfftw.FFTW(n7_in, n7_out, axes=(0, 1))\n",
    "n7_in[:, :] = M7[:, :]\n",
    "\n",
    "n8_in  = pyfftw.empty_aligned((8192, 8192), 'complex128')\n",
    "n8_out = pyfftw.empty_aligned((8192, 8192), 'complex128')\n",
    "N8 = pyfftw.FFTW(n8_in, n8_out, axes=(0, 1))\n",
    "n8_in[:, :] = M8[:, :]\n",
    "print('built pyfftw matrices\\n')\n",
    "\n",
    "\n",
    "def pyfftw_test(A):\n",
    "    result = A()\n",
    "\n",
    "\n",
    "def numpy_test(A):\n",
    "    result = np.fft.fft2(A)\n",
    "\n",
    "\n",
    "num = 10\n",
    "for M, N in zip([M1, M2, M3, M4, M5, M6, M7, M8], [N1, N2, N3, N4, N5, N6, N7, N8]):\n",
    "    numpy_timer  = timeit.Timer(\"numpy_test(M)\",  \"from __main__ import M, numpy_test\")\n",
    "    pyfftw_timer = timeit.Timer(\"pyfftw_test(N)\", \"from __main__ import N, pyfftw_test\")\n",
    "    print(\"shape:\", M.shape, num, \"trials\")\n",
    "\n",
    "    numpy_time  = numpy_timer.timeit(number=num)\n",
    "    pyfftw_time = pyfftw_timer.timeit(number=num)\n",
    "    print(\"  \",  numpy_time,  \"seconds\")\n",
    "    print(\"  \",  pyfftw_time, \"seconds\")\n",
    "    print(\"  pyfftw is\", (numpy_time/pyfftw_time), \"times faster\")\n",
    "\n",
    "    # check to see if the two arrays are in fact equal with a certain tolerance\n",
    "    print(np.allclose(np.fft.fft2(M), N()), '\\n')"
   ]
  },
  {
   "cell_type": "code",
   "execution_count": null,
   "metadata": {},
   "outputs": [],
   "source": []
  }
 ],
 "metadata": {
  "kernelspec": {
   "display_name": "Python 3",
   "language": "python",
   "name": "python3"
  },
  "language_info": {
   "codemirror_mode": {
    "name": "ipython",
    "version": 3
   },
   "file_extension": ".py",
   "mimetype": "text/x-python",
   "name": "python",
   "nbconvert_exporter": "python",
   "pygments_lexer": "ipython3",
   "version": "3.8.3"
  }
 },
 "nbformat": 4,
 "nbformat_minor": 4
}
